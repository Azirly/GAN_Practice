{
 "cells": [
  {
   "cell_type": "code",
   "execution_count": 1,
   "metadata": {
    "ExecuteTime": {
     "end_time": "2020-11-24T17:22:46.787897Z",
     "start_time": "2020-11-24T17:22:44.528887Z"
    }
   },
   "outputs": [],
   "source": [
    "# prerequisites\n",
    "import torch\n",
    "import torch.nn as nn\n",
    "import torch.nn.functional as F\n",
    "import torch.optim as optim\n",
    "from torchvision import datasets, transforms\n",
    "from torch.autograd import Variable\n",
    "from torchvision.utils import save_image\n",
    "\n",
    "# Device configuration\n",
    "device = torch.device('cuda' if torch.cuda.is_available() else 'cpu')"
   ]
  },
  {
   "cell_type": "code",
   "execution_count": 2,
   "metadata": {
    "ExecuteTime": {
     "end_time": "2020-11-24T17:22:46.892617Z",
     "start_time": "2020-11-24T17:22:46.789892Z"
    }
   },
   "outputs": [],
   "source": [
    "bs = 100\n",
    "\n",
    "# MNIST Dataset\n",
    "transform = transforms.Compose([\n",
    "    transforms.ToTensor(),\n",
    "    transforms.Normalize((0.5,), (0.5,))])\n",
    "\n",
    "train_dataset = datasets.MNIST(root='./mnist_data/', train=True, transform=transform, download=True)\n",
    "test_dataset = datasets.MNIST(root='./mnist_data/', train=False, transform=transform, download=False)\n",
    "\n",
    "# Data Loader (Input Pipeline)\n",
    "train_loader = torch.utils.data.DataLoader(dataset=train_dataset, batch_size=bs, shuffle=True)\n",
    "test_loader = torch.utils.data.DataLoader(dataset=test_dataset, batch_size=bs, shuffle=False)"
   ]
  },
  {
   "cell_type": "code",
   "execution_count": 3,
   "metadata": {
    "ExecuteTime": {
     "end_time": "2020-11-24T17:22:46.907580Z",
     "start_time": "2020-11-24T17:22:46.894612Z"
    }
   },
   "outputs": [],
   "source": [
    "class Generator(nn.Module):\n",
    "    def __init__(self, g_input_dim, g_output_dim):\n",
    "        super(Generator, self).__init__()       \n",
    "        self.fc1 = nn.Linear(g_input_dim, 256)\n",
    "        self.fc2 = nn.Linear(self.fc1.out_features, self.fc1.out_features*2)\n",
    "        self.fc3 = nn.Linear(self.fc2.out_features, self.fc2.out_features*2)\n",
    "        self.fc4 = nn.Linear(self.fc3.out_features, g_output_dim)\n",
    "    \n",
    "    # forward method\n",
    "    def forward(self, x): \n",
    "        x = F.leaky_relu(self.fc1(x), 0.2)\n",
    "        x = F.leaky_relu(self.fc2(x), 0.2)\n",
    "        x = F.leaky_relu(self.fc3(x), 0.2)\n",
    "        return torch.tanh(self.fc4(x))\n",
    "    \n",
    "class Discriminator(nn.Module):\n",
    "    def __init__(self, d_input_dim):\n",
    "        super(Discriminator, self).__init__()\n",
    "        self.fc1 = nn.Linear(d_input_dim, 1024)\n",
    "        self.fc2 = nn.Linear(self.fc1.out_features, self.fc1.out_features//2)\n",
    "        self.fc3 = nn.Linear(self.fc2.out_features, self.fc2.out_features//2)\n",
    "        self.fc4 = nn.Linear(self.fc3.out_features, 1)\n",
    "    \n",
    "    # forward method\n",
    "    def forward(self, x):\n",
    "        x = F.leaky_relu(self.fc1(x), 0.2)\n",
    "        x = F.dropout(x, 0.3)\n",
    "        x = F.leaky_relu(self.fc2(x), 0.2)\n",
    "        x = F.dropout(x, 0.3)\n",
    "        x = F.leaky_relu(self.fc3(x), 0.2)\n",
    "        x = F.dropout(x, 0.3)\n",
    "        return torch.sigmoid(self.fc4(x))"
   ]
  },
  {
   "cell_type": "code",
   "execution_count": 4,
   "metadata": {
    "ExecuteTime": {
     "end_time": "2020-11-24T17:22:50.614876Z",
     "start_time": "2020-11-24T17:22:46.909573Z"
    }
   },
   "outputs": [
    {
     "name": "stderr",
     "output_type": "stream",
     "text": [
      "C:\\Users\\J Lin\\Documents\\Python\\lib\\site-packages\\torchvision\\datasets\\mnist.py:58: UserWarning: train_data has been renamed data\n",
      "  warnings.warn(\"train_data has been renamed data\")\n"
     ]
    }
   ],
   "source": [
    "# build network\n",
    "z_dim = 100\n",
    "mnist_dim = train_dataset.train_data.size(1) * train_dataset.train_data.size(2)\n",
    "\n",
    "G = Generator(g_input_dim = z_dim, g_output_dim = mnist_dim).to(device)\n",
    "D = Discriminator(mnist_dim).to(device)"
   ]
  },
  {
   "cell_type": "code",
   "execution_count": 5,
   "metadata": {
    "ExecuteTime": {
     "end_time": "2020-11-24T17:22:50.626931Z",
     "start_time": "2020-11-24T17:22:50.616871Z"
    }
   },
   "outputs": [
    {
     "data": {
      "text/plain": [
       "Generator(\n",
       "  (fc1): Linear(in_features=100, out_features=256, bias=True)\n",
       "  (fc2): Linear(in_features=256, out_features=512, bias=True)\n",
       "  (fc3): Linear(in_features=512, out_features=1024, bias=True)\n",
       "  (fc4): Linear(in_features=1024, out_features=784, bias=True)\n",
       ")"
      ]
     },
     "execution_count": 5,
     "metadata": {},
     "output_type": "execute_result"
    }
   ],
   "source": [
    "G"
   ]
  },
  {
   "cell_type": "code",
   "execution_count": 6,
   "metadata": {
    "ExecuteTime": {
     "end_time": "2020-11-24T17:22:50.678706Z",
     "start_time": "2020-11-24T17:22:50.631832Z"
    }
   },
   "outputs": [
    {
     "data": {
      "text/plain": [
       "Discriminator(\n",
       "  (fc1): Linear(in_features=784, out_features=1024, bias=True)\n",
       "  (fc2): Linear(in_features=1024, out_features=512, bias=True)\n",
       "  (fc3): Linear(in_features=512, out_features=256, bias=True)\n",
       "  (fc4): Linear(in_features=256, out_features=1, bias=True)\n",
       ")"
      ]
     },
     "execution_count": 6,
     "metadata": {},
     "output_type": "execute_result"
    }
   ],
   "source": [
    "D"
   ]
  },
  {
   "cell_type": "code",
   "execution_count": 7,
   "metadata": {
    "ExecuteTime": {
     "end_time": "2020-11-24T17:22:50.695661Z",
     "start_time": "2020-11-24T17:22:50.679703Z"
    }
   },
   "outputs": [],
   "source": [
    "# loss\n",
    "criterion = nn.BCELoss() \n",
    "\n",
    "# optimizer\n",
    "lr = 0.0002 \n",
    "G_optimizer = optim.Adam(G.parameters(), lr = lr)\n",
    "D_optimizer = optim.Adam(D.parameters(), lr = lr)"
   ]
  },
  {
   "cell_type": "code",
   "execution_count": 8,
   "metadata": {
    "ExecuteTime": {
     "end_time": "2020-11-24T17:22:50.716604Z",
     "start_time": "2020-11-24T17:22:50.697655Z"
    }
   },
   "outputs": [],
   "source": [
    "def D_train(x):\n",
    "    #=======================Train the discriminator=======================#\n",
    "    D.zero_grad()\n",
    "\n",
    "    # train discriminator on real\n",
    "    x_real, y_real = x.view(-1, mnist_dim), torch.ones(bs, 1)\n",
    "    x_real, y_real = Variable(x_real.to(device)), Variable(y_real.to(device))\n",
    "\n",
    "    D_output = D(x_real)\n",
    "    D_real_loss = criterion(D_output, y_real)\n",
    "    D_real_score = D_output\n",
    "\n",
    "    # train discriminator on facke\n",
    "    z = Variable(torch.randn(bs, z_dim).to(device))\n",
    "    x_fake, y_fake = G(z), Variable(torch.zeros(bs, 1).to(device))\n",
    "\n",
    "    D_output = D(x_fake)\n",
    "    D_fake_loss = criterion(D_output, y_fake)\n",
    "    D_fake_score = D_output\n",
    "\n",
    "    # gradient backprop & optimize ONLY D's parameters\n",
    "    D_loss = D_real_loss + D_fake_loss\n",
    "    D_loss.backward()\n",
    "    D_optimizer.step()\n",
    "        \n",
    "    return  D_loss.data.item()"
   ]
  },
  {
   "cell_type": "code",
   "execution_count": 9,
   "metadata": {
    "ExecuteTime": {
     "end_time": "2020-11-24T17:22:50.737581Z",
     "start_time": "2020-11-24T17:22:50.718600Z"
    }
   },
   "outputs": [],
   "source": [
    "def G_train(x):\n",
    "    #=======================Train the generator=======================#\n",
    "    G.zero_grad()\n",
    "\n",
    "    z = Variable(torch.randn(bs, z_dim).to(device))\n",
    "    y = Variable(torch.ones(bs, 1).to(device))\n",
    "\n",
    "    G_output = G(z)\n",
    "    D_output = D(G_output)\n",
    "    G_loss = criterion(D_output, y)\n",
    "\n",
    "    # gradient backprop & optimize ONLY G's parameters\n",
    "    G_loss.backward()\n",
    "    G_optimizer.step()\n",
    "        \n",
    "    return G_loss.data.item()"
   ]
  },
  {
   "cell_type": "code",
   "execution_count": 10,
   "metadata": {
    "ExecuteTime": {
     "end_time": "2020-11-24T18:49:31.112736Z",
     "start_time": "2020-11-24T17:22:50.740542Z"
    },
    "scrolled": false
   },
   "outputs": [
    {
     "name": "stdout",
     "output_type": "stream",
     "text": [
      "[1/200]: loss_d: 0.863, loss_g: 3.004\n",
      "[2/200]: loss_d: 0.753, loss_g: 3.785\n",
      "[3/200]: loss_d: 0.951, loss_g: 1.811\n",
      "[4/200]: loss_d: 0.757, loss_g: 2.522\n",
      "[5/200]: loss_d: 0.566, loss_g: 2.784\n",
      "[6/200]: loss_d: 0.414, loss_g: 3.292\n",
      "[7/200]: loss_d: 0.480, loss_g: 2.863\n",
      "[8/200]: loss_d: 0.525, loss_g: 2.724\n",
      "[9/200]: loss_d: 0.587, loss_g: 2.584\n",
      "[10/200]: loss_d: 0.630, loss_g: 2.399\n",
      "[11/200]: loss_d: 0.687, loss_g: 2.248\n",
      "[12/200]: loss_d: 0.696, loss_g: 2.258\n",
      "[13/200]: loss_d: 0.731, loss_g: 2.089\n",
      "[14/200]: loss_d: 0.775, loss_g: 2.094\n",
      "[15/200]: loss_d: 0.783, loss_g: 1.996\n",
      "[16/200]: loss_d: 0.794, loss_g: 1.935\n",
      "[17/200]: loss_d: 0.809, loss_g: 1.858\n",
      "[18/200]: loss_d: 0.857, loss_g: 1.753\n",
      "[19/200]: loss_d: 0.843, loss_g: 1.765\n",
      "[20/200]: loss_d: 0.897, loss_g: 1.663\n",
      "[21/200]: loss_d: 0.916, loss_g: 1.625\n",
      "[22/200]: loss_d: 0.874, loss_g: 1.700\n",
      "[23/200]: loss_d: 0.908, loss_g: 1.654\n",
      "[24/200]: loss_d: 0.892, loss_g: 1.652\n",
      "[25/200]: loss_d: 0.923, loss_g: 1.570\n",
      "[26/200]: loss_d: 0.924, loss_g: 1.605\n",
      "[27/200]: loss_d: 0.935, loss_g: 1.538\n",
      "[28/200]: loss_d: 0.981, loss_g: 1.462\n",
      "[29/200]: loss_d: 0.992, loss_g: 1.429\n",
      "[30/200]: loss_d: 0.990, loss_g: 1.420\n",
      "[31/200]: loss_d: 1.007, loss_g: 1.383\n",
      "[32/200]: loss_d: 1.009, loss_g: 1.375\n",
      "[33/200]: loss_d: 1.022, loss_g: 1.356\n",
      "[34/200]: loss_d: 1.034, loss_g: 1.341\n",
      "[35/200]: loss_d: 1.033, loss_g: 1.339\n",
      "[36/200]: loss_d: 1.057, loss_g: 1.275\n",
      "[37/200]: loss_d: 1.061, loss_g: 1.275\n",
      "[38/200]: loss_d: 1.064, loss_g: 1.285\n",
      "[39/200]: loss_d: 1.070, loss_g: 1.270\n",
      "[40/200]: loss_d: 1.083, loss_g: 1.249\n",
      "[41/200]: loss_d: 1.080, loss_g: 1.271\n",
      "[42/200]: loss_d: 1.087, loss_g: 1.240\n",
      "[43/200]: loss_d: 1.110, loss_g: 1.180\n",
      "[44/200]: loss_d: 1.142, loss_g: 1.121\n",
      "[45/200]: loss_d: 1.126, loss_g: 1.157\n",
      "[46/200]: loss_d: 1.136, loss_g: 1.138\n",
      "[47/200]: loss_d: 1.134, loss_g: 1.154\n",
      "[48/200]: loss_d: 1.133, loss_g: 1.155\n",
      "[49/200]: loss_d: 1.141, loss_g: 1.134\n",
      "[50/200]: loss_d: 1.144, loss_g: 1.132\n",
      "[51/200]: loss_d: 1.142, loss_g: 1.112\n",
      "[52/200]: loss_d: 1.162, loss_g: 1.116\n",
      "[53/200]: loss_d: 1.154, loss_g: 1.117\n",
      "[54/200]: loss_d: 1.160, loss_g: 1.102\n",
      "[55/200]: loss_d: 1.177, loss_g: 1.069\n",
      "[56/200]: loss_d: 1.172, loss_g: 1.078\n",
      "[57/200]: loss_d: 1.181, loss_g: 1.070\n",
      "[58/200]: loss_d: 1.165, loss_g: 1.098\n",
      "[59/200]: loss_d: 1.170, loss_g: 1.085\n",
      "[60/200]: loss_d: 1.183, loss_g: 1.039\n",
      "[61/200]: loss_d: 1.196, loss_g: 1.030\n",
      "[62/200]: loss_d: 1.201, loss_g: 1.033\n",
      "[63/200]: loss_d: 1.202, loss_g: 1.028\n",
      "[64/200]: loss_d: 1.186, loss_g: 1.049\n",
      "[65/200]: loss_d: 1.196, loss_g: 1.039\n",
      "[66/200]: loss_d: 1.203, loss_g: 1.023\n",
      "[67/200]: loss_d: 1.205, loss_g: 1.015\n",
      "[68/200]: loss_d: 1.206, loss_g: 1.007\n",
      "[69/200]: loss_d: 1.210, loss_g: 1.017\n",
      "[70/200]: loss_d: 1.213, loss_g: 0.998\n",
      "[71/200]: loss_d: 1.218, loss_g: 0.995\n",
      "[72/200]: loss_d: 1.214, loss_g: 1.002\n",
      "[73/200]: loss_d: 1.211, loss_g: 1.018\n",
      "[74/200]: loss_d: 1.206, loss_g: 1.020\n",
      "[75/200]: loss_d: 1.207, loss_g: 1.010\n",
      "[76/200]: loss_d: 1.221, loss_g: 0.998\n",
      "[77/200]: loss_d: 1.221, loss_g: 0.986\n",
      "[78/200]: loss_d: 1.226, loss_g: 0.985\n",
      "[79/200]: loss_d: 1.227, loss_g: 0.971\n",
      "[80/200]: loss_d: 1.225, loss_g: 0.989\n",
      "[81/200]: loss_d: 1.230, loss_g: 0.987\n",
      "[82/200]: loss_d: 1.218, loss_g: 0.985\n",
      "[83/200]: loss_d: 1.230, loss_g: 0.973\n",
      "[84/200]: loss_d: 1.228, loss_g: 0.985\n",
      "[85/200]: loss_d: 1.218, loss_g: 0.997\n",
      "[86/200]: loss_d: 1.226, loss_g: 0.992\n",
      "[87/200]: loss_d: 1.232, loss_g: 0.972\n",
      "[88/200]: loss_d: 1.237, loss_g: 0.961\n",
      "[89/200]: loss_d: 1.238, loss_g: 0.978\n",
      "[90/200]: loss_d: 1.225, loss_g: 0.979\n",
      "[91/200]: loss_d: 1.245, loss_g: 0.952\n",
      "[92/200]: loss_d: 1.250, loss_g: 0.948\n",
      "[93/200]: loss_d: 1.253, loss_g: 0.950\n",
      "[94/200]: loss_d: 1.234, loss_g: 0.978\n",
      "[95/200]: loss_d: 1.243, loss_g: 0.955\n",
      "[96/200]: loss_d: 1.248, loss_g: 0.953\n",
      "[97/200]: loss_d: 1.245, loss_g: 0.953\n",
      "[98/200]: loss_d: 1.254, loss_g: 0.941\n",
      "[99/200]: loss_d: 1.249, loss_g: 0.949\n",
      "[100/200]: loss_d: 1.260, loss_g: 0.933\n",
      "[101/200]: loss_d: 1.257, loss_g: 0.948\n",
      "[102/200]: loss_d: 1.252, loss_g: 0.940\n",
      "[103/200]: loss_d: 1.259, loss_g: 0.935\n",
      "[104/200]: loss_d: 1.256, loss_g: 0.933\n",
      "[105/200]: loss_d: 1.257, loss_g: 0.934\n",
      "[106/200]: loss_d: 1.261, loss_g: 0.938\n",
      "[107/200]: loss_d: 1.255, loss_g: 0.940\n",
      "[108/200]: loss_d: 1.258, loss_g: 0.932\n",
      "[109/200]: loss_d: 1.258, loss_g: 0.928\n",
      "[110/200]: loss_d: 1.265, loss_g: 0.923\n",
      "[111/200]: loss_d: 1.261, loss_g: 0.919\n",
      "[112/200]: loss_d: 1.261, loss_g: 0.934\n",
      "[113/200]: loss_d: 1.258, loss_g: 0.930\n",
      "[114/200]: loss_d: 1.265, loss_g: 0.929\n",
      "[115/200]: loss_d: 1.261, loss_g: 0.917\n",
      "[116/200]: loss_d: 1.263, loss_g: 0.925\n",
      "[117/200]: loss_d: 1.257, loss_g: 0.936\n",
      "[118/200]: loss_d: 1.258, loss_g: 0.937\n",
      "[119/200]: loss_d: 1.258, loss_g: 0.927\n",
      "[120/200]: loss_d: 1.263, loss_g: 0.916\n",
      "[121/200]: loss_d: 1.265, loss_g: 0.923\n",
      "[122/200]: loss_d: 1.264, loss_g: 0.917\n",
      "[123/200]: loss_d: 1.275, loss_g: 0.905\n",
      "[124/200]: loss_d: 1.261, loss_g: 0.934\n",
      "[125/200]: loss_d: 1.268, loss_g: 0.907\n",
      "[126/200]: loss_d: 1.269, loss_g: 0.913\n",
      "[127/200]: loss_d: 1.266, loss_g: 0.918\n",
      "[128/200]: loss_d: 1.268, loss_g: 0.921\n",
      "[129/200]: loss_d: 1.263, loss_g: 0.924\n",
      "[130/200]: loss_d: 1.267, loss_g: 0.907\n",
      "[131/200]: loss_d: 1.269, loss_g: 0.907\n",
      "[132/200]: loss_d: 1.272, loss_g: 0.902\n",
      "[133/200]: loss_d: 1.266, loss_g: 0.904\n",
      "[134/200]: loss_d: 1.271, loss_g: 0.910\n",
      "[135/200]: loss_d: 1.274, loss_g: 0.898\n",
      "[136/200]: loss_d: 1.272, loss_g: 0.911\n",
      "[137/200]: loss_d: 1.267, loss_g: 0.918\n",
      "[138/200]: loss_d: 1.266, loss_g: 0.917\n",
      "[139/200]: loss_d: 1.266, loss_g: 0.911\n",
      "[140/200]: loss_d: 1.269, loss_g: 0.906\n",
      "[141/200]: loss_d: 1.265, loss_g: 0.912\n",
      "[142/200]: loss_d: 1.275, loss_g: 0.901\n",
      "[143/200]: loss_d: 1.266, loss_g: 0.919\n",
      "[144/200]: loss_d: 1.275, loss_g: 0.897\n",
      "[145/200]: loss_d: 1.267, loss_g: 0.911\n",
      "[146/200]: loss_d: 1.276, loss_g: 0.894\n",
      "[147/200]: loss_d: 1.283, loss_g: 0.892\n",
      "[148/200]: loss_d: 1.278, loss_g: 0.890\n",
      "[149/200]: loss_d: 1.268, loss_g: 0.908\n",
      "[150/200]: loss_d: 1.269, loss_g: 0.913\n",
      "[151/200]: loss_d: 1.274, loss_g: 0.911\n",
      "[152/200]: loss_d: 1.272, loss_g: 0.895\n",
      "[153/200]: loss_d: 1.273, loss_g: 0.914\n",
      "[154/200]: loss_d: 1.274, loss_g: 0.901\n",
      "[155/200]: loss_d: 1.280, loss_g: 0.888\n",
      "[156/200]: loss_d: 1.281, loss_g: 0.900\n",
      "[157/200]: loss_d: 1.271, loss_g: 0.907\n",
      "[158/200]: loss_d: 1.280, loss_g: 0.889\n",
      "[159/200]: loss_d: 1.269, loss_g: 0.909\n",
      "[160/200]: loss_d: 1.275, loss_g: 0.899\n",
      "[161/200]: loss_d: 1.280, loss_g: 0.893\n",
      "[162/200]: loss_d: 1.275, loss_g: 0.905\n",
      "[163/200]: loss_d: 1.269, loss_g: 0.903\n",
      "[164/200]: loss_d: 1.273, loss_g: 0.913\n",
      "[165/200]: loss_d: 1.275, loss_g: 0.894\n",
      "[166/200]: loss_d: 1.278, loss_g: 0.888\n",
      "[167/200]: loss_d: 1.271, loss_g: 0.908\n",
      "[168/200]: loss_d: 1.272, loss_g: 0.899\n",
      "[169/200]: loss_d: 1.279, loss_g: 0.898\n",
      "[170/200]: loss_d: 1.277, loss_g: 0.892\n",
      "[171/200]: loss_d: 1.278, loss_g: 0.894\n",
      "[172/200]: loss_d: 1.275, loss_g: 0.889\n",
      "[173/200]: loss_d: 1.285, loss_g: 0.890\n",
      "[174/200]: loss_d: 1.277, loss_g: 0.890\n",
      "[175/200]: loss_d: 1.283, loss_g: 0.896\n",
      "[176/200]: loss_d: 1.274, loss_g: 0.901\n",
      "[177/200]: loss_d: 1.286, loss_g: 0.879\n",
      "[178/200]: loss_d: 1.285, loss_g: 0.882\n",
      "[179/200]: loss_d: 1.284, loss_g: 0.883\n",
      "[180/200]: loss_d: 1.282, loss_g: 0.899\n",
      "[181/200]: loss_d: 1.279, loss_g: 0.891\n",
      "[182/200]: loss_d: 1.281, loss_g: 0.891\n",
      "[183/200]: loss_d: 1.283, loss_g: 0.883\n",
      "[184/200]: loss_d: 1.282, loss_g: 0.886\n",
      "[185/200]: loss_d: 1.282, loss_g: 0.890\n",
      "[186/200]: loss_d: 1.283, loss_g: 0.878\n",
      "[187/200]: loss_d: 1.284, loss_g: 0.891\n",
      "[188/200]: loss_d: 1.285, loss_g: 0.885\n",
      "[189/200]: loss_d: 1.281, loss_g: 0.882\n",
      "[190/200]: loss_d: 1.280, loss_g: 0.884\n",
      "[191/200]: loss_d: 1.281, loss_g: 0.892\n",
      "[192/200]: loss_d: 1.282, loss_g: 0.884\n",
      "[193/200]: loss_d: 1.282, loss_g: 0.893\n",
      "[194/200]: loss_d: 1.277, loss_g: 0.894\n",
      "[195/200]: loss_d: 1.288, loss_g: 0.871\n",
      "[196/200]: loss_d: 1.289, loss_g: 0.876\n",
      "[197/200]: loss_d: 1.280, loss_g: 0.890\n",
      "[198/200]: loss_d: 1.287, loss_g: 0.873\n",
      "[199/200]: loss_d: 1.292, loss_g: 0.877\n",
      "[200/200]: loss_d: 1.280, loss_g: 0.884\n"
     ]
    }
   ],
   "source": [
    "n_epoch = 200\n",
    "for epoch in range(1, n_epoch+1):           \n",
    "    D_losses, G_losses = [], []\n",
    "    for batch_idx, (x, _) in enumerate(train_loader):\n",
    "        D_losses.append(D_train(x))\n",
    "        G_losses.append(G_train(x))\n",
    "\n",
    "    print('[%d/%d]: loss_d: %.3f, loss_g: %.3f' % (\n",
    "            (epoch), n_epoch, torch.mean(torch.FloatTensor(D_losses)), torch.mean(torch.FloatTensor(G_losses))))"
   ]
  },
  {
   "cell_type": "code",
   "execution_count": 11,
   "metadata": {
    "ExecuteTime": {
     "end_time": "2020-11-24T18:49:31.221445Z",
     "start_time": "2020-11-24T18:49:31.119717Z"
    }
   },
   "outputs": [],
   "source": [
    "with torch.no_grad():\n",
    "    test_z = Variable(torch.randn(bs, z_dim).to(device))\n",
    "    generated = G(test_z)\n",
    "\n",
    "    save_image(generated.view(generated.size(0), 1, 28, 28), './samples/sample_' + '.png')"
   ]
  },
  {
   "cell_type": "code",
   "execution_count": null,
   "metadata": {},
   "outputs": [],
   "source": []
  }
 ],
 "metadata": {
  "kernelspec": {
   "display_name": "Python 3",
   "language": "python",
   "name": "python3"
  },
  "language_info": {
   "codemirror_mode": {
    "name": "ipython",
    "version": 3
   },
   "file_extension": ".py",
   "mimetype": "text/x-python",
   "name": "python",
   "nbconvert_exporter": "python",
   "pygments_lexer": "ipython3",
   "version": "3.7.4"
  },
  "toc": {
   "base_numbering": 1,
   "nav_menu": {},
   "number_sections": true,
   "sideBar": true,
   "skip_h1_title": false,
   "title_cell": "Table of Contents",
   "title_sidebar": "Contents",
   "toc_cell": false,
   "toc_position": {},
   "toc_section_display": true,
   "toc_window_display": false
  }
 },
 "nbformat": 4,
 "nbformat_minor": 2
}
